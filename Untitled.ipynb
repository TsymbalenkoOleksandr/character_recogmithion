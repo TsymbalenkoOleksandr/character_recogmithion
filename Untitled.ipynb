{
 "cells": [
  {
   "cell_type": "code",
   "execution_count": 1,
   "metadata": {},
   "outputs": [],
   "source": [
    "import sys\n",
    "sys.path.append('C:\\\\Users\\\\Olexandr\\\\.julia\\\\conda\\\\3\\\\Lib\\\\site-packages')\n",
    "import cv2\n",
    "import numpy as np\n",
    "import pytesseract\n",
    "from PIL import Image\n",
    "\n",
    "%matplotlib inline "
   ]
  },
  {
   "cell_type": "code",
   "execution_count": 94,
   "metadata": {},
   "outputs": [],
   "source": [
    "# Get File Name from Command Line\n",
    "path = \"images\\example_2.jpg\"\n",
    "image = cv2.imread(path)"
   ]
  },
  {
   "cell_type": "code",
   "execution_count": 138,
   "metadata": {},
   "outputs": [],
   "source": [
    "def pre_process(image):\n",
    "    img = cv2.resize(image, (500, 700), fx=1.5, fy=1.5, interpolation=cv2.INTER_CUBIC)\n",
    "    img = cv2.cvtColor(img, cv2.COLOR_BGR2GRAY)\n",
    "    kernel = np.ones((1, 1), np.uint8)\n",
    "    kernel1 = np.ones((3, 3), np.uint8)\n",
    "#     img = cv2.erode(img, kernel, iterations=1)\n",
    "#     img = cv2.morphologyEx(img, cv2.MORPH_CLOSE, kernel1)\n",
    "    img = cv2.bilateralFilter(img,9,75,75)\n",
    "    img = cv2.adaptiveThreshold(img,255,cv2.ADAPTIVE_THRESH_GAUSSIAN_C, cv2.THRESH_BINARY,11,6)\n",
    "    img = cv2.dilate(img, kernel, iterations=1)\n",
    "    return img    "
   ]
  },
  {
   "cell_type": "code",
   "execution_count": 139,
   "metadata": {},
   "outputs": [
    {
     "name": "stdout",
     "output_type": "stream",
     "text": [
      "й\n",
      "\n",
      " \n",
      "\n",
      "         \n",
      "   \n",
      "    \n",
      "\n",
      "eee un\n",
      "\n",
      "[er saa\n",
      "питво\n",
      "ти зовано\n",
      "30\n",
      "\n",
      "СИР з\n",
      "TOTEM\n",
      "\n",
      "cf i Р)\n",
      "\n",
      "ФОРАВ рю\n",
      "г, i . у / РОДИНА в 8 і\n",
      "\n",
      "7 (ПРОМ. ПІ СУМ 54\n",
      "\n",
      "~ За 8 90\n",
      "SJ a\n",
      ". fa = 28.00% 78°74\n",
      ". ae 3B.\n",
      "\n",
      " \n",
      "\n",
      "тив\n",
      "НИ fs\n",
      "~ THO-9 10.07 34 нев\n",
      "> З 18. ГРУЗНАОЗІБО\n",
      "йно і Поу\n",
      "оскьми ЧК\n",
      "\n",
      "Dunisystem\n"
     ]
    }
   ],
   "source": [
    "img = pre_process(image)\n",
    "cv2.imshow('img',img)\n",
    "cv2.waitKey(0)\n",
    "cv2.destroyAllWindows()\n",
    "text = pytesseract.image_to_string(Image.fromarray(img), lang=\"ukr+eng\")\n",
    "print(text)"
   ]
  },
  {
   "cell_type": "markdown",
   "metadata": {},
   "source": []
  }
 ],
 "metadata": {
  "kernelspec": {
   "display_name": "Python 3",
   "language": "python",
   "name": "python3"
  },
  "language_info": {
   "codemirror_mode": {
    "name": "ipython",
    "version": 3
   },
   "file_extension": ".py",
   "mimetype": "text/x-python",
   "name": "python",
   "nbconvert_exporter": "python",
   "pygments_lexer": "ipython3",
   "version": "3.7.1"
  }
 },
 "nbformat": 4,
 "nbformat_minor": 2
}
